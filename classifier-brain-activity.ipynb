{
 "cells": [
  {
   "cell_type": "markdown",
   "id": "edb1d246",
   "metadata": {
    "papermill": {
     "duration": 0.004505,
     "end_time": "2024-01-09T20:04:47.486113",
     "exception": false,
     "start_time": "2024-01-09T20:04:47.481608",
     "status": "completed"
    },
    "tags": []
   },
   "source": [
    "# Notebook Summary"
   ]
  },
  {
   "cell_type": "markdown",
   "id": "b454e225",
   "metadata": {
    "papermill": {
     "duration": 0.003706,
     "end_time": "2024-01-09T20:04:47.493944",
     "exception": false,
     "start_time": "2024-01-09T20:04:47.490238",
     "status": "completed"
    },
    "tags": []
   },
   "source": [
    "This is Kaggle project aims to use EEG and Spectrogram data to classify harmful brain activity. More information about the competition and the data can be found [here](https://www.kaggle.com/competitions/hms-harmful-brain-activity-classification/overview)."
   ]
  },
  {
   "cell_type": "markdown",
   "id": "8636a5b9",
   "metadata": {
    "papermill": {
     "duration": 0.003441,
     "end_time": "2024-01-09T20:04:47.501233",
     "exception": false,
     "start_time": "2024-01-09T20:04:47.497792",
     "status": "completed"
    },
    "tags": []
   },
   "source": [
    "# Load the Data"
   ]
  },
  {
   "cell_type": "markdown",
   "id": "6a9b40bd",
   "metadata": {
    "papermill": {
     "duration": 0.003371,
     "end_time": "2024-01-09T20:04:47.508330",
     "exception": false,
     "start_time": "2024-01-09T20:04:47.504959",
     "status": "completed"
    },
    "tags": []
   },
   "source": [
    "## Library Imports"
   ]
  },
  {
   "cell_type": "code",
   "execution_count": 1,
   "id": "9af4f44d",
   "metadata": {
    "_cell_guid": "b1076dfc-b9ad-4769-8c92-a6c4dae69d19",
    "_uuid": "8f2839f25d086af736a60e9eeb907d3b93b6e0e5",
    "execution": {
     "iopub.execute_input": "2024-01-09T20:04:47.518651Z",
     "iopub.status.busy": "2024-01-09T20:04:47.517368Z",
     "iopub.status.idle": "2024-01-09T20:04:47.995777Z",
     "shell.execute_reply": "2024-01-09T20:04:47.994757Z"
    },
    "papermill": {
     "duration": 0.486731,
     "end_time": "2024-01-09T20:04:47.998685",
     "exception": false,
     "start_time": "2024-01-09T20:04:47.511954",
     "status": "completed"
    },
    "tags": []
   },
   "outputs": [],
   "source": [
    "import numpy as np\n",
    "import pandas as pd\n",
    "import matplotlib.pyplot as plt\n",
    "from pathlib import Path"
   ]
  },
  {
   "cell_type": "markdown",
   "id": "a0f6111c",
   "metadata": {
    "papermill": {
     "duration": 0.00359,
     "end_time": "2024-01-09T20:04:48.006487",
     "exception": false,
     "start_time": "2024-01-09T20:04:48.002897",
     "status": "completed"
    },
    "tags": []
   },
   "source": [
    "## Data Import"
   ]
  },
  {
   "cell_type": "code",
   "execution_count": 2,
   "id": "7117f0e1",
   "metadata": {
    "execution": {
     "iopub.execute_input": "2024-01-09T20:04:48.017292Z",
     "iopub.status.busy": "2024-01-09T20:04:48.015829Z",
     "iopub.status.idle": "2024-01-09T20:04:48.022970Z",
     "shell.execute_reply": "2024-01-09T20:04:48.021968Z"
    },
    "papermill": {
     "duration": 0.015107,
     "end_time": "2024-01-09T20:04:48.025461",
     "exception": false,
     "start_time": "2024-01-09T20:04:48.010354",
     "status": "completed"
    },
    "tags": []
   },
   "outputs": [],
   "source": [
    "# Directories\n",
    "DIR_INPUT = Path(\"/kaggle/input\")\n",
    "DIR_DATA = DIR_INPUT / \"hms-harmful-brain-activity-classification\"\n",
    "DIR_EXAMPLES = DIR_DATA / \"example_figures\"\n",
    "DIR_TEST_EEGS = DIR_DATA / \"test_eegs\"\n",
    "DIR_TEST_SPECT = DIR_DATA / \"test_spectrograms\"\n",
    "DIR_TRAIN_EEGS = DIR_DATA / \"train_eegs\"\n",
    "DIR_TRAIN_SPECT = DIR_DATA / \"train_spectrograms\""
   ]
  },
  {
   "cell_type": "markdown",
   "id": "6c4cb61f",
   "metadata": {
    "papermill": {
     "duration": 0.003571,
     "end_time": "2024-01-09T20:04:48.033025",
     "exception": false,
     "start_time": "2024-01-09T20:04:48.029454",
     "status": "completed"
    },
    "tags": []
   },
   "source": [
    "**train.csv:** Metadata for the train set. The expert annotators reviewed 50 second long EEG samples plus matched spectrograms covering 10 a minute window centered at the same time and labeled the central 10 seconds. Many of these samples overlapped and have been consolidated. train.csv provides the metadata that allows you to extract the original subsets that the raters annotated."
   ]
  },
  {
   "cell_type": "code",
   "execution_count": 3,
   "id": "4ce5a87a",
   "metadata": {
    "execution": {
     "iopub.execute_input": "2024-01-09T20:04:48.044264Z",
     "iopub.status.busy": "2024-01-09T20:04:48.043147Z",
     "iopub.status.idle": "2024-01-09T20:04:48.072520Z",
     "shell.execute_reply": "2024-01-09T20:04:48.071277Z"
    },
    "papermill": {
     "duration": 0.037773,
     "end_time": "2024-01-09T20:04:48.075150",
     "exception": false,
     "start_time": "2024-01-09T20:04:48.037377",
     "status": "completed"
    },
    "tags": []
   },
   "outputs": [
    {
     "data": {
      "text/plain": [
       "Series([], Name: eeg_id, dtype: object)"
      ]
     },
     "execution_count": 3,
     "metadata": {},
     "output_type": "execute_result"
    }
   ],
   "source": [
    "train = pd.read_csv(DIR_DATA / \"train.csv\")\n",
    "train[\"eeg_id\"]"
   ]
  },
  {
   "cell_type": "code",
   "execution_count": 4,
   "id": "6b5ac6fd",
   "metadata": {
    "execution": {
     "iopub.execute_input": "2024-01-09T20:04:48.085604Z",
     "iopub.status.busy": "2024-01-09T20:04:48.084638Z",
     "iopub.status.idle": "2024-01-09T20:04:48.090584Z",
     "shell.execute_reply": "2024-01-09T20:04:48.089290Z"
    },
    "papermill": {
     "duration": 0.014044,
     "end_time": "2024-01-09T20:04:48.093285",
     "exception": false,
     "start_time": "2024-01-09T20:04:48.079241",
     "status": "completed"
    },
    "tags": []
   },
   "outputs": [],
   "source": [
    "# Write once error with train.csv is fixed\n",
    "## Note: train.csv currently empty - competition creator is looking in to this issue\n",
    "def get_eeg_spect_match():\n",
    "    \"\"\"Retrieves the annotated data for the given id.\"\"\"\n",
    "    pass"
   ]
  }
 ],
 "metadata": {
  "kaggle": {
   "accelerator": "none",
   "dataSources": [
    {
     "databundleVersionId": 7457433,
     "sourceId": 59093,
     "sourceType": "competition"
    }
   ],
   "dockerImageVersionId": 30626,
   "isGpuEnabled": false,
   "isInternetEnabled": true,
   "language": "python",
   "sourceType": "notebook"
  },
  "kernelspec": {
   "display_name": "Python 3",
   "language": "python",
   "name": "python3"
  },
  "language_info": {
   "codemirror_mode": {
    "name": "ipython",
    "version": 3
   },
   "file_extension": ".py",
   "mimetype": "text/x-python",
   "name": "python",
   "nbconvert_exporter": "python",
   "pygments_lexer": "ipython3",
   "version": "3.10.12"
  },
  "papermill": {
   "default_parameters": {},
   "duration": 4.790377,
   "end_time": "2024-01-09T20:04:48.620525",
   "environment_variables": {},
   "exception": null,
   "input_path": "__notebook__.ipynb",
   "output_path": "__notebook__.ipynb",
   "parameters": {},
   "start_time": "2024-01-09T20:04:43.830148",
   "version": "2.4.0"
  }
 },
 "nbformat": 4,
 "nbformat_minor": 5
}
